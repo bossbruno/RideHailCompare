{
 "cells": [
  {
   "cell_type": "markdown",
   "source": [
    "Install all necessary modules for analysis"
   ],
   "metadata": {
    "collapsed": false
   }
  },
  {
   "cell_type": "code",
   "execution_count": 2,
   "outputs": [],
   "source": [
    "import pandas as pd\n",
    "import numpy as np\n",
    "import matplotlib.pyplot as plt\n",
    "import seaborn as sns\n",
    "import plotly.express as px\n",
    "\n",
    "# minor pandas configuration\n",
    "pd.options.display.max_rows = None\n",
    "pd.options.display.max_columns = None"
   ],
   "metadata": {
    "collapsed": false
   }
  },
  {
   "cell_type": "markdown",
   "source": [
    "reading the data and display some few rows"
   ],
   "metadata": {
    "collapsed": false
   }
  },
  {
   "cell_type": "code",
   "execution_count": 8,
   "outputs": [
    {
     "data": {
      "text/plain": "    distance cab_type     time_stamp destination     source  price  \\\n12      1.11     Uber  1543615981179    West End  North End   12.0   \n13      1.11     Uber  1544698211014    West End  North End   16.0   \n14      1.11     Uber  1544728503935    West End  North End    7.5   \n15      1.11     Uber  1545004511430    West End  North End    7.5   \n16      1.11     Uber  1544748007961    West End  North End   26.0   \n\n    surge_multiplier                                    id  \\\n12               1.0  009e9c53-074d-43cf-aef2-0fbc7a47ed3d   \n13               1.0  23f145da-f0c1-4d1f-a184-496bc003a7db   \n14               1.0  357559cb-8c58-4278-a41a-e33b2e0997a3   \n15               1.0  50ef1165-9d23-416c-a65c-18906207b295   \n16               1.0  91c4861c-1780-42b0-bca1-bbd64a422cc3   \n\n                              product_id       name  \n12  6f72dfc5-27f1-42e8-84db-ccc7a75f6969     UberXL  \n13  6c84fd89-3f11-4782-9b50-97c468b19529      Black  \n14  55c66225-fbe7-4fd5-9072-eab1ece5e23e      UberX  \n15  9a0e7b09-b92b-4c41-9779-2ad22b4d779d        WAV  \n16  6d318bcc-22a3-4af6-bddd-b409bfce1546  Black SUV  ",
      "text/html": "<div>\n<style scoped>\n    .dataframe tbody tr th:only-of-type {\n        vertical-align: middle;\n    }\n\n    .dataframe tbody tr th {\n        vertical-align: top;\n    }\n\n    .dataframe thead th {\n        text-align: right;\n    }\n</style>\n<table border=\"1\" class=\"dataframe\">\n  <thead>\n    <tr style=\"text-align: right;\">\n      <th></th>\n      <th>distance</th>\n      <th>cab_type</th>\n      <th>time_stamp</th>\n      <th>destination</th>\n      <th>source</th>\n      <th>price</th>\n      <th>surge_multiplier</th>\n      <th>id</th>\n      <th>product_id</th>\n      <th>name</th>\n    </tr>\n  </thead>\n  <tbody>\n    <tr>\n      <th>12</th>\n      <td>1.11</td>\n      <td>Uber</td>\n      <td>1543615981179</td>\n      <td>West End</td>\n      <td>North End</td>\n      <td>12.0</td>\n      <td>1.0</td>\n      <td>009e9c53-074d-43cf-aef2-0fbc7a47ed3d</td>\n      <td>6f72dfc5-27f1-42e8-84db-ccc7a75f6969</td>\n      <td>UberXL</td>\n    </tr>\n    <tr>\n      <th>13</th>\n      <td>1.11</td>\n      <td>Uber</td>\n      <td>1544698211014</td>\n      <td>West End</td>\n      <td>North End</td>\n      <td>16.0</td>\n      <td>1.0</td>\n      <td>23f145da-f0c1-4d1f-a184-496bc003a7db</td>\n      <td>6c84fd89-3f11-4782-9b50-97c468b19529</td>\n      <td>Black</td>\n    </tr>\n    <tr>\n      <th>14</th>\n      <td>1.11</td>\n      <td>Uber</td>\n      <td>1544728503935</td>\n      <td>West End</td>\n      <td>North End</td>\n      <td>7.5</td>\n      <td>1.0</td>\n      <td>357559cb-8c58-4278-a41a-e33b2e0997a3</td>\n      <td>55c66225-fbe7-4fd5-9072-eab1ece5e23e</td>\n      <td>UberX</td>\n    </tr>\n    <tr>\n      <th>15</th>\n      <td>1.11</td>\n      <td>Uber</td>\n      <td>1545004511430</td>\n      <td>West End</td>\n      <td>North End</td>\n      <td>7.5</td>\n      <td>1.0</td>\n      <td>50ef1165-9d23-416c-a65c-18906207b295</td>\n      <td>9a0e7b09-b92b-4c41-9779-2ad22b4d779d</td>\n      <td>WAV</td>\n    </tr>\n    <tr>\n      <th>16</th>\n      <td>1.11</td>\n      <td>Uber</td>\n      <td>1544748007961</td>\n      <td>West End</td>\n      <td>North End</td>\n      <td>26.0</td>\n      <td>1.0</td>\n      <td>91c4861c-1780-42b0-bca1-bbd64a422cc3</td>\n      <td>6d318bcc-22a3-4af6-bddd-b409bfce1546</td>\n      <td>Black SUV</td>\n    </tr>\n  </tbody>\n</table>\n</div>"
     },
     "execution_count": 8,
     "metadata": {},
     "output_type": "execute_result"
    }
   ],
   "source": [
    "df = pd.read_csv(\"./data/cab_rides.csv\")\n",
    "\n",
    "# i already know the dataset contains some data i dont new i will just go ahead and remove it\n",
    "# if this is the first time am seeing this data i might have go deep into the data before i realise and remove it\n",
    "df = df.loc[df['cab_type'] == 'Uber']\n",
    "df.head()\n"
   ],
   "metadata": {
    "collapsed": false
   }
  },
  {
   "cell_type": "code",
   "execution_count": 9,
   "outputs": [
    {
     "name": "stdout",
     "output_type": "stream",
     "text": [
      "<class 'pandas.core.frame.DataFrame'>\n",
      "Int64Index: 385663 entries, 12 to 693070\n",
      "Data columns (total 10 columns):\n",
      " #   Column            Non-Null Count   Dtype  \n",
      "---  ------            --------------   -----  \n",
      " 0   distance          385663 non-null  float64\n",
      " 1   cab_type          385663 non-null  object \n",
      " 2   time_stamp        385663 non-null  int64  \n",
      " 3   destination       385663 non-null  object \n",
      " 4   source            385663 non-null  object \n",
      " 5   price             330568 non-null  float64\n",
      " 6   surge_multiplier  385663 non-null  float64\n",
      " 7   id                385663 non-null  object \n",
      " 8   product_id        385663 non-null  object \n",
      " 9   name              385663 non-null  object \n",
      "dtypes: float64(3), int64(1), object(6)\n",
      "memory usage: 32.4+ MB\n"
     ]
    }
   ],
   "source": [
    "df.info()"
   ],
   "metadata": {
    "collapsed": false
   }
  },
  {
   "cell_type": "code",
   "execution_count": 10,
   "outputs": [
    {
     "data": {
      "text/plain": "            distance    time_stamp          price  surge_multiplier\ncount  385663.000000  3.856630e+05  330568.000000          385663.0\nmean        2.191386  1.544046e+12      15.795343               1.0\nstd         1.178973  6.896209e+08       8.560300               0.0\nmin         0.020000  1.543204e+12       4.500000               1.0\n25%         1.300000  1.543444e+12       9.000000               1.0\n50%         2.170000  1.543737e+12      12.500000               1.0\n75%         2.840000  1.544828e+12      21.500000               1.0\nmax         7.860000  1.545161e+12      89.500000               1.0",
      "text/html": "<div>\n<style scoped>\n    .dataframe tbody tr th:only-of-type {\n        vertical-align: middle;\n    }\n\n    .dataframe tbody tr th {\n        vertical-align: top;\n    }\n\n    .dataframe thead th {\n        text-align: right;\n    }\n</style>\n<table border=\"1\" class=\"dataframe\">\n  <thead>\n    <tr style=\"text-align: right;\">\n      <th></th>\n      <th>distance</th>\n      <th>time_stamp</th>\n      <th>price</th>\n      <th>surge_multiplier</th>\n    </tr>\n  </thead>\n  <tbody>\n    <tr>\n      <th>count</th>\n      <td>385663.000000</td>\n      <td>3.856630e+05</td>\n      <td>330568.000000</td>\n      <td>385663.0</td>\n    </tr>\n    <tr>\n      <th>mean</th>\n      <td>2.191386</td>\n      <td>1.544046e+12</td>\n      <td>15.795343</td>\n      <td>1.0</td>\n    </tr>\n    <tr>\n      <th>std</th>\n      <td>1.178973</td>\n      <td>6.896209e+08</td>\n      <td>8.560300</td>\n      <td>0.0</td>\n    </tr>\n    <tr>\n      <th>min</th>\n      <td>0.020000</td>\n      <td>1.543204e+12</td>\n      <td>4.500000</td>\n      <td>1.0</td>\n    </tr>\n    <tr>\n      <th>25%</th>\n      <td>1.300000</td>\n      <td>1.543444e+12</td>\n      <td>9.000000</td>\n      <td>1.0</td>\n    </tr>\n    <tr>\n      <th>50%</th>\n      <td>2.170000</td>\n      <td>1.543737e+12</td>\n      <td>12.500000</td>\n      <td>1.0</td>\n    </tr>\n    <tr>\n      <th>75%</th>\n      <td>2.840000</td>\n      <td>1.544828e+12</td>\n      <td>21.500000</td>\n      <td>1.0</td>\n    </tr>\n    <tr>\n      <th>max</th>\n      <td>7.860000</td>\n      <td>1.545161e+12</td>\n      <td>89.500000</td>\n      <td>1.0</td>\n    </tr>\n  </tbody>\n</table>\n</div>"
     },
     "execution_count": 10,
     "metadata": {},
     "output_type": "execute_result"
    }
   ],
   "source": [
    "df.describe()\n",
    "# from the data below our timestamp isnt in the right format for us to make sense out of it"
   ],
   "metadata": {
    "collapsed": false
   }
  },
  {
   "cell_type": "markdown",
   "source": [
    "Data Cleaning and analysis"
   ],
   "metadata": {
    "collapsed": false
   }
  },
  {
   "cell_type": "code",
   "execution_count": 16,
   "outputs": [
    {
     "data": {
      "text/plain": "12   2018-11-30 22:13:01.179\n13   2018-12-13 10:50:11.014\n14   2018-12-13 19:15:03.935\n15   2018-12-16 23:55:11.430\n16   2018-12-14 00:40:07.961\nName: time_stamp, dtype: datetime64[ns]"
     },
     "execution_count": 16,
     "metadata": {},
     "output_type": "execute_result"
    }
   ],
   "source": [
    "# convert the ms timestamp to actual  date time\n",
    "# df['time_stamp'].dt.date\n",
    "df['time_stamp']=pd.to_datetime(df['time_stamp'], unit='ms')\n",
    "df['time_stamp'].head()\n",
    "\n",
    "# as we can see the timestamp has been converted into a usable datetime for us"
   ],
   "metadata": {
    "collapsed": false
   }
  },
  {
   "cell_type": "markdown",
   "source": [
    "We will try summing how many rows have a missing data in each feature point"
   ],
   "metadata": {
    "collapsed": false
   }
  },
  {
   "cell_type": "code",
   "execution_count": 18,
   "outputs": [
    {
     "data": {
      "text/plain": "distance                0\ncab_type                0\ntime_stamp              0\ndestination             0\nsource                  0\nprice               55095\nsurge_multiplier        0\nid                      0\nproduct_id              0\nname                    0\ndtype: int64"
     },
     "execution_count": 18,
     "metadata": {},
     "output_type": "execute_result"
    }
   ],
   "source": [
    "df.isnull().sum()"
   ],
   "metadata": {
    "collapsed": false
   }
  },
  {
   "cell_type": "markdown",
   "source": [
    "from the data above we know there are no missing data but we will still go ahead and try and remove any missing data incase we miss something"
   ],
   "metadata": {
    "collapsed": false
   }
  },
  {
   "cell_type": "code",
   "execution_count": 19,
   "outputs": [],
   "source": [
    "df.dropna(axis=0, inplace=True)"
   ],
   "metadata": {
    "collapsed": false
   }
  },
  {
   "cell_type": "code",
   "execution_count": 20,
   "outputs": [
    {
     "data": {
      "text/plain": "0"
     },
     "execution_count": 20,
     "metadata": {},
     "output_type": "execute_result"
    }
   ],
   "source": [
    "df.isnull().sum().sum()"
   ],
   "metadata": {
    "collapsed": false
   }
  },
  {
   "cell_type": "code",
   "execution_count": 22,
   "outputs": [
    {
     "data": {
      "text/plain": "    distance cab_type              time_stamp destination     source  price  \\\n12      1.11     Uber 2018-11-30 22:13:01.179    West End  North End   12.0   \n13      1.11     Uber 2018-12-13 10:50:11.014    West End  North End   16.0   \n14      1.11     Uber 2018-12-13 19:15:03.935    West End  North End    7.5   \n15      1.11     Uber 2018-12-16 23:55:11.430    West End  North End    7.5   \n16      1.11     Uber 2018-12-14 00:40:07.961    West End  North End   26.0   \n\n    surge_multiplier                                    id  \\\n12               1.0  009e9c53-074d-43cf-aef2-0fbc7a47ed3d   \n13               1.0  23f145da-f0c1-4d1f-a184-496bc003a7db   \n14               1.0  357559cb-8c58-4278-a41a-e33b2e0997a3   \n15               1.0  50ef1165-9d23-416c-a65c-18906207b295   \n16               1.0  91c4861c-1780-42b0-bca1-bbd64a422cc3   \n\n                              product_id       name  \n12  6f72dfc5-27f1-42e8-84db-ccc7a75f6969     UberXL  \n13  6c84fd89-3f11-4782-9b50-97c468b19529      Black  \n14  55c66225-fbe7-4fd5-9072-eab1ece5e23e      UberX  \n15  9a0e7b09-b92b-4c41-9779-2ad22b4d779d        WAV  \n16  6d318bcc-22a3-4af6-bddd-b409bfce1546  Black SUV  ",
      "text/html": "<div>\n<style scoped>\n    .dataframe tbody tr th:only-of-type {\n        vertical-align: middle;\n    }\n\n    .dataframe tbody tr th {\n        vertical-align: top;\n    }\n\n    .dataframe thead th {\n        text-align: right;\n    }\n</style>\n<table border=\"1\" class=\"dataframe\">\n  <thead>\n    <tr style=\"text-align: right;\">\n      <th></th>\n      <th>distance</th>\n      <th>cab_type</th>\n      <th>time_stamp</th>\n      <th>destination</th>\n      <th>source</th>\n      <th>price</th>\n      <th>surge_multiplier</th>\n      <th>id</th>\n      <th>product_id</th>\n      <th>name</th>\n    </tr>\n  </thead>\n  <tbody>\n    <tr>\n      <th>12</th>\n      <td>1.11</td>\n      <td>Uber</td>\n      <td>2018-11-30 22:13:01.179</td>\n      <td>West End</td>\n      <td>North End</td>\n      <td>12.0</td>\n      <td>1.0</td>\n      <td>009e9c53-074d-43cf-aef2-0fbc7a47ed3d</td>\n      <td>6f72dfc5-27f1-42e8-84db-ccc7a75f6969</td>\n      <td>UberXL</td>\n    </tr>\n    <tr>\n      <th>13</th>\n      <td>1.11</td>\n      <td>Uber</td>\n      <td>2018-12-13 10:50:11.014</td>\n      <td>West End</td>\n      <td>North End</td>\n      <td>16.0</td>\n      <td>1.0</td>\n      <td>23f145da-f0c1-4d1f-a184-496bc003a7db</td>\n      <td>6c84fd89-3f11-4782-9b50-97c468b19529</td>\n      <td>Black</td>\n    </tr>\n    <tr>\n      <th>14</th>\n      <td>1.11</td>\n      <td>Uber</td>\n      <td>2018-12-13 19:15:03.935</td>\n      <td>West End</td>\n      <td>North End</td>\n      <td>7.5</td>\n      <td>1.0</td>\n      <td>357559cb-8c58-4278-a41a-e33b2e0997a3</td>\n      <td>55c66225-fbe7-4fd5-9072-eab1ece5e23e</td>\n      <td>UberX</td>\n    </tr>\n    <tr>\n      <th>15</th>\n      <td>1.11</td>\n      <td>Uber</td>\n      <td>2018-12-16 23:55:11.430</td>\n      <td>West End</td>\n      <td>North End</td>\n      <td>7.5</td>\n      <td>1.0</td>\n      <td>50ef1165-9d23-416c-a65c-18906207b295</td>\n      <td>9a0e7b09-b92b-4c41-9779-2ad22b4d779d</td>\n      <td>WAV</td>\n    </tr>\n    <tr>\n      <th>16</th>\n      <td>1.11</td>\n      <td>Uber</td>\n      <td>2018-12-14 00:40:07.961</td>\n      <td>West End</td>\n      <td>North End</td>\n      <td>26.0</td>\n      <td>1.0</td>\n      <td>91c4861c-1780-42b0-bca1-bbd64a422cc3</td>\n      <td>6d318bcc-22a3-4af6-bddd-b409bfce1546</td>\n      <td>Black SUV</td>\n    </tr>\n  </tbody>\n</table>\n</div>"
     },
     "execution_count": 22,
     "metadata": {},
     "output_type": "execute_result"
    }
   ],
   "source": [
    "df.head()"
   ],
   "metadata": {
    "collapsed": false
   }
  },
  {
   "cell_type": "raw",
   "source": [
    "2. EDA and Visualization¶\n"
   ],
   "metadata": {
    "collapsed": false
   }
  },
  {
   "cell_type": "code",
   "execution_count": 23,
   "outputs": [],
   "source": [
    "def plot_bar(groupby_column):\n",
    "    df1 =df.groupby(groupby_column).size().reset_index(name=\"counts\")\n",
    "    fig1 = px.bar(data_frame=df1, x=groupby_column, y=\"counts\", color=groupby_column, barmode=\"group\")\n",
    "    print(df1)\n",
    "    fig1.show(renderer='png')"
   ],
   "metadata": {
    "collapsed": false
   }
  },
  {
   "cell_type": "code",
   "execution_count": 25,
   "outputs": [
    {
     "name": "stdout",
     "output_type": "stream",
     "text": [
      "        name  counts\n",
      "0      Black   55095\n",
      "1  Black SUV   55096\n",
      "2   UberPool   55091\n",
      "3      UberX   55094\n",
      "4     UberXL   55096\n",
      "5        WAV   55096\n"
     ]
    },
    {
     "ename": "ValueError",
     "evalue": "\nImage export using the \"kaleido\" engine requires the kaleido package,\nwhich can be installed using pip:\n    $ pip install -U kaleido\n",
     "output_type": "error",
     "traceback": [
      "\u001B[1;31m---------------------------------------------------------------------------\u001B[0m",
      "\u001B[1;31mValueError\u001B[0m                                Traceback (most recent call last)",
      "Cell \u001B[1;32mIn [25], line 1\u001B[0m\n\u001B[1;32m----> 1\u001B[0m \u001B[43mplot_bar\u001B[49m\u001B[43m(\u001B[49m\u001B[38;5;124;43m'\u001B[39;49m\u001B[38;5;124;43mname\u001B[39;49m\u001B[38;5;124;43m'\u001B[39;49m\u001B[43m)\u001B[49m\n",
      "Cell \u001B[1;32mIn [23], line 5\u001B[0m, in \u001B[0;36mplot_bar\u001B[1;34m(groupby_column)\u001B[0m\n\u001B[0;32m      3\u001B[0m fig1 \u001B[38;5;241m=\u001B[39m px\u001B[38;5;241m.\u001B[39mbar(data_frame\u001B[38;5;241m=\u001B[39mdf1, x\u001B[38;5;241m=\u001B[39mgroupby_column, y\u001B[38;5;241m=\u001B[39m\u001B[38;5;124m\"\u001B[39m\u001B[38;5;124mcounts\u001B[39m\u001B[38;5;124m\"\u001B[39m, color\u001B[38;5;241m=\u001B[39mgroupby_column, barmode\u001B[38;5;241m=\u001B[39m\u001B[38;5;124m\"\u001B[39m\u001B[38;5;124mgroup\u001B[39m\u001B[38;5;124m\"\u001B[39m)\n\u001B[0;32m      4\u001B[0m \u001B[38;5;28mprint\u001B[39m(df1)\n\u001B[1;32m----> 5\u001B[0m \u001B[43mfig1\u001B[49m\u001B[38;5;241;43m.\u001B[39;49m\u001B[43mshow\u001B[49m\u001B[43m(\u001B[49m\u001B[43mrenderer\u001B[49m\u001B[38;5;241;43m=\u001B[39;49m\u001B[38;5;124;43m'\u001B[39;49m\u001B[38;5;124;43mpng\u001B[39;49m\u001B[38;5;124;43m'\u001B[39;49m\u001B[43m)\u001B[49m\n",
      "File \u001B[1;32mc:\\freelancing\\uber-aggregator\\ubervenv\\lib\\site-packages\\plotly\\basedatatypes.py:3398\u001B[0m, in \u001B[0;36mBaseFigure.show\u001B[1;34m(self, *args, **kwargs)\u001B[0m\n\u001B[0;32m   3365\u001B[0m \u001B[38;5;124;03m\"\"\"\u001B[39;00m\n\u001B[0;32m   3366\u001B[0m \u001B[38;5;124;03mShow a figure using either the default renderer(s) or the renderer(s)\u001B[39;00m\n\u001B[0;32m   3367\u001B[0m \u001B[38;5;124;03mspecified by the renderer argument\u001B[39;00m\n\u001B[1;32m   (...)\u001B[0m\n\u001B[0;32m   3394\u001B[0m \u001B[38;5;124;03mNone\u001B[39;00m\n\u001B[0;32m   3395\u001B[0m \u001B[38;5;124;03m\"\"\"\u001B[39;00m\n\u001B[0;32m   3396\u001B[0m \u001B[38;5;28;01mimport\u001B[39;00m \u001B[38;5;21;01mplotly\u001B[39;00m\u001B[38;5;21;01m.\u001B[39;00m\u001B[38;5;21;01mio\u001B[39;00m \u001B[38;5;28;01mas\u001B[39;00m \u001B[38;5;21;01mpio\u001B[39;00m\n\u001B[1;32m-> 3398\u001B[0m \u001B[38;5;28;01mreturn\u001B[39;00m \u001B[43mpio\u001B[49m\u001B[38;5;241;43m.\u001B[39;49m\u001B[43mshow\u001B[49m\u001B[43m(\u001B[49m\u001B[38;5;28;43mself\u001B[39;49m\u001B[43m,\u001B[49m\u001B[43m \u001B[49m\u001B[38;5;241;43m*\u001B[39;49m\u001B[43margs\u001B[49m\u001B[43m,\u001B[49m\u001B[43m \u001B[49m\u001B[38;5;241;43m*\u001B[39;49m\u001B[38;5;241;43m*\u001B[39;49m\u001B[43mkwargs\u001B[49m\u001B[43m)\u001B[49m\n",
      "File \u001B[1;32mc:\\freelancing\\uber-aggregator\\ubervenv\\lib\\site-packages\\plotly\\io\\_renderers.py:388\u001B[0m, in \u001B[0;36mshow\u001B[1;34m(fig, renderer, validate, **kwargs)\u001B[0m\n\u001B[0;32m    385\u001B[0m fig_dict \u001B[38;5;241m=\u001B[39m validate_coerce_fig_to_dict(fig, validate)\n\u001B[0;32m    387\u001B[0m \u001B[38;5;66;03m# Mimetype renderers\u001B[39;00m\n\u001B[1;32m--> 388\u001B[0m bundle \u001B[38;5;241m=\u001B[39m \u001B[43mrenderers\u001B[49m\u001B[38;5;241;43m.\u001B[39;49m\u001B[43m_build_mime_bundle\u001B[49m\u001B[43m(\u001B[49m\u001B[43mfig_dict\u001B[49m\u001B[43m,\u001B[49m\u001B[43m \u001B[49m\u001B[43mrenderers_string\u001B[49m\u001B[38;5;241;43m=\u001B[39;49m\u001B[43mrenderer\u001B[49m\u001B[43m,\u001B[49m\u001B[43m \u001B[49m\u001B[38;5;241;43m*\u001B[39;49m\u001B[38;5;241;43m*\u001B[39;49m\u001B[43mkwargs\u001B[49m\u001B[43m)\u001B[49m\n\u001B[0;32m    389\u001B[0m \u001B[38;5;28;01mif\u001B[39;00m bundle:\n\u001B[0;32m    390\u001B[0m     \u001B[38;5;28;01mif\u001B[39;00m \u001B[38;5;129;01mnot\u001B[39;00m ipython_display:\n",
      "File \u001B[1;32mc:\\freelancing\\uber-aggregator\\ubervenv\\lib\\site-packages\\plotly\\io\\_renderers.py:296\u001B[0m, in \u001B[0;36mRenderersConfig._build_mime_bundle\u001B[1;34m(self, fig_dict, renderers_string, **kwargs)\u001B[0m\n\u001B[0;32m    293\u001B[0m             \u001B[38;5;28;01mif\u001B[39;00m \u001B[38;5;28mhasattr\u001B[39m(renderer, k):\n\u001B[0;32m    294\u001B[0m                 \u001B[38;5;28msetattr\u001B[39m(renderer, k, v)\n\u001B[1;32m--> 296\u001B[0m         bundle\u001B[38;5;241m.\u001B[39mupdate(\u001B[43mrenderer\u001B[49m\u001B[38;5;241;43m.\u001B[39;49m\u001B[43mto_mimebundle\u001B[49m\u001B[43m(\u001B[49m\u001B[43mfig_dict\u001B[49m\u001B[43m)\u001B[49m)\n\u001B[0;32m    298\u001B[0m \u001B[38;5;28;01mreturn\u001B[39;00m bundle\n",
      "File \u001B[1;32mc:\\freelancing\\uber-aggregator\\ubervenv\\lib\\site-packages\\plotly\\io\\_base_renderers.py:127\u001B[0m, in \u001B[0;36mImageRenderer.to_mimebundle\u001B[1;34m(self, fig_dict)\u001B[0m\n\u001B[0;32m    126\u001B[0m \u001B[38;5;28;01mdef\u001B[39;00m \u001B[38;5;21mto_mimebundle\u001B[39m(\u001B[38;5;28mself\u001B[39m, fig_dict):\n\u001B[1;32m--> 127\u001B[0m     image_bytes \u001B[38;5;241m=\u001B[39m \u001B[43mto_image\u001B[49m\u001B[43m(\u001B[49m\n\u001B[0;32m    128\u001B[0m \u001B[43m        \u001B[49m\u001B[43mfig_dict\u001B[49m\u001B[43m,\u001B[49m\n\u001B[0;32m    129\u001B[0m \u001B[43m        \u001B[49m\u001B[38;5;28;43mformat\u001B[39;49m\u001B[38;5;241;43m=\u001B[39;49m\u001B[38;5;28;43mself\u001B[39;49m\u001B[38;5;241;43m.\u001B[39;49m\u001B[43mformat\u001B[49m\u001B[43m,\u001B[49m\n\u001B[0;32m    130\u001B[0m \u001B[43m        \u001B[49m\u001B[43mwidth\u001B[49m\u001B[38;5;241;43m=\u001B[39;49m\u001B[38;5;28;43mself\u001B[39;49m\u001B[38;5;241;43m.\u001B[39;49m\u001B[43mwidth\u001B[49m\u001B[43m,\u001B[49m\n\u001B[0;32m    131\u001B[0m \u001B[43m        \u001B[49m\u001B[43mheight\u001B[49m\u001B[38;5;241;43m=\u001B[39;49m\u001B[38;5;28;43mself\u001B[39;49m\u001B[38;5;241;43m.\u001B[39;49m\u001B[43mheight\u001B[49m\u001B[43m,\u001B[49m\n\u001B[0;32m    132\u001B[0m \u001B[43m        \u001B[49m\u001B[43mscale\u001B[49m\u001B[38;5;241;43m=\u001B[39;49m\u001B[38;5;28;43mself\u001B[39;49m\u001B[38;5;241;43m.\u001B[39;49m\u001B[43mscale\u001B[49m\u001B[43m,\u001B[49m\n\u001B[0;32m    133\u001B[0m \u001B[43m        \u001B[49m\u001B[43mvalidate\u001B[49m\u001B[38;5;241;43m=\u001B[39;49m\u001B[38;5;28;43;01mFalse\u001B[39;49;00m\u001B[43m,\u001B[49m\n\u001B[0;32m    134\u001B[0m \u001B[43m        \u001B[49m\u001B[43mengine\u001B[49m\u001B[38;5;241;43m=\u001B[39;49m\u001B[38;5;28;43mself\u001B[39;49m\u001B[38;5;241;43m.\u001B[39;49m\u001B[43mengine\u001B[49m\u001B[43m,\u001B[49m\n\u001B[0;32m    135\u001B[0m \u001B[43m    \u001B[49m\u001B[43m)\u001B[49m\n\u001B[0;32m    137\u001B[0m     \u001B[38;5;28;01mif\u001B[39;00m \u001B[38;5;28mself\u001B[39m\u001B[38;5;241m.\u001B[39mb64_encode:\n\u001B[0;32m    138\u001B[0m         image_str \u001B[38;5;241m=\u001B[39m base64\u001B[38;5;241m.\u001B[39mb64encode(image_bytes)\u001B[38;5;241m.\u001B[39mdecode(\u001B[38;5;124m\"\u001B[39m\u001B[38;5;124mutf8\u001B[39m\u001B[38;5;124m\"\u001B[39m)\n",
      "File \u001B[1;32mc:\\freelancing\\uber-aggregator\\ubervenv\\lib\\site-packages\\plotly\\io\\_kaleido.py:133\u001B[0m, in \u001B[0;36mto_image\u001B[1;34m(fig, format, width, height, scale, validate, engine)\u001B[0m\n\u001B[0;32m    131\u001B[0m     \u001B[38;5;66;03m# Raise informative error message if Kaleido is not installed\u001B[39;00m\n\u001B[0;32m    132\u001B[0m     \u001B[38;5;28;01mif\u001B[39;00m scope \u001B[38;5;129;01mis\u001B[39;00m \u001B[38;5;28;01mNone\u001B[39;00m:\n\u001B[1;32m--> 133\u001B[0m         \u001B[38;5;28;01mraise\u001B[39;00m \u001B[38;5;167;01mValueError\u001B[39;00m(\n\u001B[0;32m    134\u001B[0m             \u001B[38;5;124;03m\"\"\"\u001B[39;00m\n\u001B[0;32m    135\u001B[0m \u001B[38;5;124;03mImage export using the \"kaleido\" engine requires the kaleido package,\u001B[39;00m\n\u001B[0;32m    136\u001B[0m \u001B[38;5;124;03mwhich can be installed using pip:\u001B[39;00m\n\u001B[0;32m    137\u001B[0m \u001B[38;5;124;03m    $ pip install -U kaleido\u001B[39;00m\n\u001B[0;32m    138\u001B[0m \u001B[38;5;124;03m\"\"\"\u001B[39;00m\n\u001B[0;32m    139\u001B[0m         )\n\u001B[0;32m    141\u001B[0m     \u001B[38;5;66;03m# Validate figure\u001B[39;00m\n\u001B[0;32m    142\u001B[0m     \u001B[38;5;66;03m# ---------------\u001B[39;00m\n\u001B[0;32m    143\u001B[0m     fig_dict \u001B[38;5;241m=\u001B[39m validate_coerce_fig_to_dict(fig, validate)\n",
      "\u001B[1;31mValueError\u001B[0m: \nImage export using the \"kaleido\" engine requires the kaleido package,\nwhich can be installed using pip:\n    $ pip install -U kaleido\n"
     ]
    }
   ],
   "source": [
    "plot_bar('name')"
   ],
   "metadata": {
    "collapsed": false
   }
  },
  {
   "cell_type": "code",
   "execution_count": 26,
   "outputs": [
    {
     "ename": "SyntaxError",
     "evalue": "invalid syntax (439962590.py, line 1)",
     "output_type": "error",
     "traceback": [
      "\u001B[1;36m  Cell \u001B[1;32mIn [26], line 1\u001B[1;36m\u001B[0m\n\u001B[1;33m    $ pip install -U kaleido\u001B[0m\n\u001B[1;37m    ^\u001B[0m\n\u001B[1;31mSyntaxError\u001B[0m\u001B[1;31m:\u001B[0m invalid syntax\n"
     ]
    }
   ],
   "source": [],
   "metadata": {
    "collapsed": false
   }
  },
  {
   "cell_type": "code",
   "execution_count": null,
   "outputs": [],
   "source": [],
   "metadata": {
    "collapsed": false
   }
  }
 ],
 "metadata": {
  "kernelspec": {
   "display_name": "Python 3.8.10 ('uberVenv': venv)",
   "language": "python",
   "name": "python3"
  },
  "language_info": {
   "codemirror_mode": {
    "name": "ipython",
    "version": 3
   },
   "file_extension": ".py",
   "mimetype": "text/x-python",
   "name": "python",
   "nbconvert_exporter": "python",
   "pygments_lexer": "ipython3",
   "version": "3.8.10"
  },
  "orig_nbformat": 4,
  "vscode": {
   "interpreter": {
    "hash": "15e762cba1ef6d51c6e7d81f0d05e6eb89bae749fea37106b868cd535e4b7530"
   }
  }
 },
 "nbformat": 4,
 "nbformat_minor": 2
}
