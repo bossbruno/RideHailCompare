{
 "cells": [
  {
   "cell_type": "markdown",
   "source": [
    "Install all necessary modules for analysis"
   ],
   "metadata": {
    "collapsed": false
   }
  },
  {
   "cell_type": "code",
   "execution_count": 1,
   "outputs": [],
   "source": [
    "import pandas as pd\n",
    "import numpy as np\n",
    "import matplotlib.pyplot as plt\n",
    "import seaborn as sns\n",
    "import plotly.express as px\n",
    "\n",
    "# minor pandas configuration\n",
    "pd.options.display.max_rows = None\n",
    "pd.options.display.max_columns = None"
   ],
   "metadata": {
    "collapsed": false
   }
  },
  {
   "cell_type": "markdown",
   "source": [
    "reading the data and display some few rows"
   ],
   "metadata": {
    "collapsed": false
   }
  },
  {
   "cell_type": "code",
   "execution_count": 3,
   "outputs": [
    {
     "data": {
      "text/plain": "   distance cab_type     time_stamp    destination            source  price  \\\n0      0.44     Lyft  1544952607890  North Station  Haymarket Square    5.0   \n1      0.44     Lyft  1543284023677  North Station  Haymarket Square   11.0   \n2      0.44     Lyft  1543366822198  North Station  Haymarket Square    7.0   \n3      0.44     Lyft  1543553582749  North Station  Haymarket Square   26.0   \n4      0.44     Lyft  1543463360223  North Station  Haymarket Square    9.0   \n\n   surge_multiplier                                    id    product_id  \\\n0               1.0  424553bb-7174-41ea-aeb4-fe06d4f4b9d7     lyft_line   \n1               1.0  4bd23055-6827-41c6-b23b-3c491f24e74d  lyft_premier   \n2               1.0  981a3613-77af-4620-a42a-0c0866077d1e          lyft   \n3               1.0  c2d88af2-d278-4bfd-a8d0-29ca77cc5512   lyft_luxsuv   \n4               1.0  e0126e1f-8ca9-4f2e-82b3-50505a09db9a     lyft_plus   \n\n           name  \n0        Shared  \n1           Lux  \n2          Lyft  \n3  Lux Black XL  \n4       Lyft XL  ",
      "text/html": "<div>\n<style scoped>\n    .dataframe tbody tr th:only-of-type {\n        vertical-align: middle;\n    }\n\n    .dataframe tbody tr th {\n        vertical-align: top;\n    }\n\n    .dataframe thead th {\n        text-align: right;\n    }\n</style>\n<table border=\"1\" class=\"dataframe\">\n  <thead>\n    <tr style=\"text-align: right;\">\n      <th></th>\n      <th>distance</th>\n      <th>cab_type</th>\n      <th>time_stamp</th>\n      <th>destination</th>\n      <th>source</th>\n      <th>price</th>\n      <th>surge_multiplier</th>\n      <th>id</th>\n      <th>product_id</th>\n      <th>name</th>\n    </tr>\n  </thead>\n  <tbody>\n    <tr>\n      <th>0</th>\n      <td>0.44</td>\n      <td>Lyft</td>\n      <td>1544952607890</td>\n      <td>North Station</td>\n      <td>Haymarket Square</td>\n      <td>5.0</td>\n      <td>1.0</td>\n      <td>424553bb-7174-41ea-aeb4-fe06d4f4b9d7</td>\n      <td>lyft_line</td>\n      <td>Shared</td>\n    </tr>\n    <tr>\n      <th>1</th>\n      <td>0.44</td>\n      <td>Lyft</td>\n      <td>1543284023677</td>\n      <td>North Station</td>\n      <td>Haymarket Square</td>\n      <td>11.0</td>\n      <td>1.0</td>\n      <td>4bd23055-6827-41c6-b23b-3c491f24e74d</td>\n      <td>lyft_premier</td>\n      <td>Lux</td>\n    </tr>\n    <tr>\n      <th>2</th>\n      <td>0.44</td>\n      <td>Lyft</td>\n      <td>1543366822198</td>\n      <td>North Station</td>\n      <td>Haymarket Square</td>\n      <td>7.0</td>\n      <td>1.0</td>\n      <td>981a3613-77af-4620-a42a-0c0866077d1e</td>\n      <td>lyft</td>\n      <td>Lyft</td>\n    </tr>\n    <tr>\n      <th>3</th>\n      <td>0.44</td>\n      <td>Lyft</td>\n      <td>1543553582749</td>\n      <td>North Station</td>\n      <td>Haymarket Square</td>\n      <td>26.0</td>\n      <td>1.0</td>\n      <td>c2d88af2-d278-4bfd-a8d0-29ca77cc5512</td>\n      <td>lyft_luxsuv</td>\n      <td>Lux Black XL</td>\n    </tr>\n    <tr>\n      <th>4</th>\n      <td>0.44</td>\n      <td>Lyft</td>\n      <td>1543463360223</td>\n      <td>North Station</td>\n      <td>Haymarket Square</td>\n      <td>9.0</td>\n      <td>1.0</td>\n      <td>e0126e1f-8ca9-4f2e-82b3-50505a09db9a</td>\n      <td>lyft_plus</td>\n      <td>Lyft XL</td>\n    </tr>\n  </tbody>\n</table>\n</div>"
     },
     "execution_count": 3,
     "metadata": {},
     "output_type": "execute_result"
    }
   ],
   "source": [
    "df=pd.read_csv(\"./data/cab_rides.csv\")\n",
    "df.head()"
   ],
   "metadata": {
    "collapsed": false
   }
  },
  {
   "cell_type": "code",
   "execution_count": 4,
   "outputs": [
    {
     "name": "stdout",
     "output_type": "stream",
     "text": [
      "<class 'pandas.core.frame.DataFrame'>\n",
      "RangeIndex: 693071 entries, 0 to 693070\n",
      "Data columns (total 10 columns):\n",
      " #   Column            Non-Null Count   Dtype  \n",
      "---  ------            --------------   -----  \n",
      " 0   distance          693071 non-null  float64\n",
      " 1   cab_type          693071 non-null  object \n",
      " 2   time_stamp        693071 non-null  int64  \n",
      " 3   destination       693071 non-null  object \n",
      " 4   source            693071 non-null  object \n",
      " 5   price             637976 non-null  float64\n",
      " 6   surge_multiplier  693071 non-null  float64\n",
      " 7   id                693071 non-null  object \n",
      " 8   product_id        693071 non-null  object \n",
      " 9   name              693071 non-null  object \n",
      "dtypes: float64(3), int64(1), object(6)\n",
      "memory usage: 52.9+ MB\n"
     ]
    }
   ],
   "source": [
    "df.info()"
   ],
   "metadata": {
    "collapsed": false
   }
  },
  {
   "cell_type": "markdown",
   "metadata": {},
   "source": []
  }
 ],
 "metadata": {
  "kernelspec": {
   "display_name": "Python 3.8.10 ('uberVenv': venv)",
   "language": "python",
   "name": "python3"
  },
  "language_info": {
   "codemirror_mode": {
    "name": "ipython",
    "version": 3
   },
   "file_extension": ".py",
   "mimetype": "text/x-python",
   "name": "python",
   "nbconvert_exporter": "python",
   "pygments_lexer": "ipython3",
   "version": "3.8.10"
  },
  "orig_nbformat": 4,
  "vscode": {
   "interpreter": {
    "hash": "15e762cba1ef6d51c6e7d81f0d05e6eb89bae749fea37106b868cd535e4b7530"
   }
  }
 },
 "nbformat": 4,
 "nbformat_minor": 2
}
